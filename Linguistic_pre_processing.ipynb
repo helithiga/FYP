{
  "nbformat": 4,
  "nbformat_minor": 0,
  "metadata": {
    "colab": {
      "name": "Linguistic_pre_processing.ipynb",
      "provenance": [],
      "authorship_tag": "ABX9TyMnqvsqjBn2pKh9royHSEb+",
      "include_colab_link": true
    },
    "kernelspec": {
      "display_name": "Python 3",
      "name": "python3"
    }
  },
  "cells": [
    {
      "cell_type": "markdown",
      "metadata": {
        "id": "view-in-github",
        "colab_type": "text"
      },
      "source": [
        "<a href=\"https://colab.research.google.com/github/helithiga/POS-Tagges/blob/main/Linguistic_pre_processing.ipynb\" target=\"_parent\"><img src=\"https://colab.research.google.com/assets/colab-badge.svg\" alt=\"Open In Colab\"/></a>"
      ]
    },
    {
      "cell_type": "markdown",
      "metadata": {
        "id": "_rv0PqeXBhxt"
      },
      "source": [
        "**Installing stanza**"
      ]
    },
    {
      "cell_type": "code",
      "metadata": {
        "id": "DUgivhBSAHyh",
        "outputId": "41f72e64-6e25-4ed5-f2bd-e2c4e79915ce",
        "colab": {
          "base_uri": "https://localhost:8080/"
        }
      },
      "source": [
        "pip install stanza"
      ],
      "execution_count": 2,
      "outputs": [
        {
          "output_type": "stream",
          "text": [
            "Collecting stanza\n",
            "\u001b[?25l  Downloading https://files.pythonhosted.org/packages/e7/8b/3a9e7a8d8cb14ad6afffc3983b7a7322a3a24d94ebc978a70746fcffc085/stanza-1.1.1-py3-none-any.whl (227kB)\n",
            "\r\u001b[K     |█▍                              | 10kB 16.1MB/s eta 0:00:01\r\u001b[K     |██▉                             | 20kB 2.0MB/s eta 0:00:01\r\u001b[K     |████▎                           | 30kB 2.6MB/s eta 0:00:01\r\u001b[K     |█████▊                          | 40kB 2.9MB/s eta 0:00:01\r\u001b[K     |███████▏                        | 51kB 2.4MB/s eta 0:00:01\r\u001b[K     |████████▋                       | 61kB 2.7MB/s eta 0:00:01\r\u001b[K     |██████████                      | 71kB 2.9MB/s eta 0:00:01\r\u001b[K     |███████████▌                    | 81kB 3.2MB/s eta 0:00:01\r\u001b[K     |█████████████                   | 92kB 3.4MB/s eta 0:00:01\r\u001b[K     |██████████████▍                 | 102kB 3.3MB/s eta 0:00:01\r\u001b[K     |███████████████▉                | 112kB 3.3MB/s eta 0:00:01\r\u001b[K     |█████████████████▎              | 122kB 3.3MB/s eta 0:00:01\r\u001b[K     |██████████████████▊             | 133kB 3.3MB/s eta 0:00:01\r\u001b[K     |████████████████████▏           | 143kB 3.3MB/s eta 0:00:01\r\u001b[K     |█████████████████████▋          | 153kB 3.3MB/s eta 0:00:01\r\u001b[K     |███████████████████████         | 163kB 3.3MB/s eta 0:00:01\r\u001b[K     |████████████████████████▌       | 174kB 3.3MB/s eta 0:00:01\r\u001b[K     |██████████████████████████      | 184kB 3.3MB/s eta 0:00:01\r\u001b[K     |███████████████████████████▍    | 194kB 3.3MB/s eta 0:00:01\r\u001b[K     |████████████████████████████▉   | 204kB 3.3MB/s eta 0:00:01\r\u001b[K     |██████████████████████████████▎ | 215kB 3.3MB/s eta 0:00:01\r\u001b[K     |███████████████████████████████▊| 225kB 3.3MB/s eta 0:00:01\r\u001b[K     |████████████████████████████████| 235kB 3.3MB/s \n",
            "\u001b[?25hRequirement already satisfied: requests in /usr/local/lib/python3.6/dist-packages (from stanza) (2.23.0)\n",
            "Requirement already satisfied: tqdm in /usr/local/lib/python3.6/dist-packages (from stanza) (4.41.1)\n",
            "Requirement already satisfied: numpy in /usr/local/lib/python3.6/dist-packages (from stanza) (1.18.5)\n",
            "Requirement already satisfied: protobuf in /usr/local/lib/python3.6/dist-packages (from stanza) (3.12.4)\n",
            "Requirement already satisfied: torch>=1.3.0 in /usr/local/lib/python3.6/dist-packages (from stanza) (1.7.0+cu101)\n",
            "Requirement already satisfied: urllib3!=1.25.0,!=1.25.1,<1.26,>=1.21.1 in /usr/local/lib/python3.6/dist-packages (from requests->stanza) (1.24.3)\n",
            "Requirement already satisfied: chardet<4,>=3.0.2 in /usr/local/lib/python3.6/dist-packages (from requests->stanza) (3.0.4)\n",
            "Requirement already satisfied: certifi>=2017.4.17 in /usr/local/lib/python3.6/dist-packages (from requests->stanza) (2020.6.20)\n",
            "Requirement already satisfied: idna<3,>=2.5 in /usr/local/lib/python3.6/dist-packages (from requests->stanza) (2.10)\n",
            "Requirement already satisfied: six>=1.9 in /usr/local/lib/python3.6/dist-packages (from protobuf->stanza) (1.15.0)\n",
            "Requirement already satisfied: setuptools in /usr/local/lib/python3.6/dist-packages (from protobuf->stanza) (50.3.2)\n",
            "Requirement already satisfied: dataclasses in /usr/local/lib/python3.6/dist-packages (from torch>=1.3.0->stanza) (0.7)\n",
            "Requirement already satisfied: future in /usr/local/lib/python3.6/dist-packages (from torch>=1.3.0->stanza) (0.16.0)\n",
            "Requirement already satisfied: typing-extensions in /usr/local/lib/python3.6/dist-packages (from torch>=1.3.0->stanza) (3.7.4.3)\n",
            "Installing collected packages: stanza\n",
            "Successfully installed stanza-1.1.1\n"
          ],
          "name": "stdout"
        }
      ]
    },
    {
      "cell_type": "markdown",
      "metadata": {
        "id": "E9EyILmJCPSH"
      },
      "source": [
        "**Downloading and Initializing the English model with an i2b2 NER model**"
      ]
    },
    {
      "cell_type": "code",
      "metadata": {
        "id": "y5LgwuH_COEb",
        "outputId": "fad0b755-a92c-452a-f660-c92f05ff6505",
        "colab": {
          "base_uri": "https://localhost:8080/"
        }
      },
      "source": [
        "import stanza\n",
        "stanza.download('en', package='mimic', processors={'ner': 'i2b2'})\n",
        "nlp = stanza.Pipeline('en', package='mimic', processors={'ner': 'i2b2'})\n"
      ],
      "execution_count": null,
      "outputs": [
        {
          "output_type": "stream",
          "text": [
            "Downloading https://raw.githubusercontent.com/stanfordnlp/stanza-resources/master/resources_1.1.0.json: 122kB [00:00, 13.5MB/s]                    \n",
            "2020-11-08 17:36:01 INFO: Downloading these customized packages for language: en (English)...\n",
            "=============================\n",
            "| Processor       | Package |\n",
            "-----------------------------\n",
            "| tokenize        | mimic   |\n",
            "| pos             | mimic   |\n",
            "| lemma           | mimic   |\n",
            "| depparse        | mimic   |\n",
            "| ner             | i2b2    |\n",
            "| backward_charlm | mimic   |\n",
            "| pretrain        | mimic   |\n",
            "| forward_charlm  | mimic   |\n",
            "=============================\n",
            "\n",
            "Downloading http://nlp.stanford.edu/software/stanza/1.1.0/en/tokenize/mimic.pt: 100%|██████████| 631k/631k [00:00<00:00, 928kB/s]\n",
            "Downloading http://nlp.stanford.edu/software/stanza/1.1.0/en/pos/mimic.pt: 100%|██████████| 20.8M/20.8M [00:02<00:00, 8.30MB/s]\n",
            "Downloading http://nlp.stanford.edu/software/stanza/1.1.0/en/lemma/mimic.pt: 100%|██████████| 4.19M/4.19M [00:01<00:00, 3.07MB/s]\n",
            "Downloading http://nlp.stanford.edu/software/stanza/1.1.0/en/depparse/mimic.pt: 100%|██████████| 109M/109M [00:06<00:00, 16.4MB/s]\n",
            "Downloading http://nlp.stanford.edu/software/stanza/1.1.0/en/ner/i2b2.pt: 100%|██████████| 123M/123M [00:13<00:00, 8.83MB/s]\n",
            "Downloading http://nlp.stanford.edu/software/stanza/1.1.0/en/backward_charlm/mimic.pt:  64%|██████▍   | 12.1M/18.9M [00:07<00:04, 1.60MB/s]"
          ],
          "name": "stderr"
        }
      ]
    },
    {
      "cell_type": "code",
      "metadata": {
        "id": "0NIXCD-MNrX9"
      },
      "source": [
        "lemma = stanza.Pipeline('en', package='mimic', processors={'depparse': 'mimic'})\n"
      ],
      "execution_count": null,
      "outputs": []
    },
    {
      "cell_type": "code",
      "metadata": {
        "id": "MJay7v4VOPgo",
        "outputId": "d180416a-4915-4c1a-ca1a-dce42390ae50",
        "colab": {
          "base_uri": "https://localhost:8080/"
        }
      },
      "source": [
        "lemma = stanza.Pipeline('en', package='mimic', processors={'depparse': 'spacy'})"
      ],
      "execution_count": null,
      "outputs": [
        {
          "output_type": "stream",
          "text": [
            "2020-11-07 19:41:39 WARNING: Can not find depparse: spacy from official model list. Ignoring it.\n",
            "2020-11-07 19:41:39 INFO: Loading these models for language: en (English):\n",
            "=======================\n",
            "| Processor | Package |\n",
            "-----------------------\n",
            "| tokenize  | mimic   |\n",
            "| pos       | mimic   |\n",
            "| lemma     | mimic   |\n",
            "| depparse  | mimic   |\n",
            "=======================\n",
            "\n",
            "2020-11-07 19:41:39 INFO: Use device: cpu\n",
            "2020-11-07 19:41:39 INFO: Loading: tokenize\n",
            "2020-11-07 19:41:39 INFO: Loading: pos\n",
            "2020-11-07 19:41:40 INFO: Loading: lemma\n",
            "2020-11-07 19:41:40 INFO: Loading: depparse\n",
            "2020-11-07 19:41:41 INFO: Done loading processors!\n"
          ],
          "name": "stderr"
        }
      ]
    },
    {
      "cell_type": "code",
      "metadata": {
        "id": "XfNoLRNgJ3hd",
        "outputId": "7a8b545e-9fb3-4466-9359-c78618a04d3e",
        "colab": {
          "base_uri": "https://localhost:8080/",
          "height": 235
        }
      },
      "source": [
        "\n",
        "\n",
        "# annotate clinical text\n",
        "doc = nlp('is the insulin to type 2 diabetics?')\n",
        "# print out all entities\n",
        "for ent in doc.entities:\n",
        "    print(f'{ent.text}\\t{ent.type}')\n",
        "print(doc.entities)\n",
        "#doc2=lemma('What do we know about virus genetics, origin, and evolution?')\n",
        "#print(doc2)"
      ],
      "execution_count": 1,
      "outputs": [
        {
          "output_type": "error",
          "ename": "NameError",
          "evalue": "ignored",
          "traceback": [
            "\u001b[0;31m---------------------------------------------------------------------------\u001b[0m",
            "\u001b[0;31mNameError\u001b[0m                                 Traceback (most recent call last)",
            "\u001b[0;32m<ipython-input-1-b4f6d1eb6048>\u001b[0m in \u001b[0;36m<module>\u001b[0;34m()\u001b[0m\n\u001b[1;32m      2\u001b[0m \u001b[0;34m\u001b[0m\u001b[0m\n\u001b[1;32m      3\u001b[0m \u001b[0;31m# annotate clinical text\u001b[0m\u001b[0;34m\u001b[0m\u001b[0;34m\u001b[0m\u001b[0;34m\u001b[0m\u001b[0m\n\u001b[0;32m----> 4\u001b[0;31m \u001b[0mdoc\u001b[0m \u001b[0;34m=\u001b[0m \u001b[0mnlp\u001b[0m\u001b[0;34m(\u001b[0m\u001b[0;34m'is the insulin to type 2 diabetics?'\u001b[0m\u001b[0;34m)\u001b[0m\u001b[0;34m\u001b[0m\u001b[0;34m\u001b[0m\u001b[0m\n\u001b[0m\u001b[1;32m      5\u001b[0m \u001b[0;31m# print out all entities\u001b[0m\u001b[0;34m\u001b[0m\u001b[0;34m\u001b[0m\u001b[0;34m\u001b[0m\u001b[0m\n\u001b[1;32m      6\u001b[0m \u001b[0;32mfor\u001b[0m \u001b[0ment\u001b[0m \u001b[0;32min\u001b[0m \u001b[0mdoc\u001b[0m\u001b[0;34m.\u001b[0m\u001b[0mentities\u001b[0m\u001b[0;34m:\u001b[0m\u001b[0;34m\u001b[0m\u001b[0;34m\u001b[0m\u001b[0m\n",
            "\u001b[0;31mNameError\u001b[0m: name 'nlp' is not defined"
          ]
        }
      ]
    },
    {
      "cell_type": "code",
      "metadata": {
        "id": "9GsO_SDMOyC9",
        "outputId": "5f3d0125-a672-4884-fab6-531bb665a82b",
        "colab": {
          "base_uri": "https://localhost:8080/",
          "height": 508
        }
      },
      "source": [
        "import spacy\n",
        "from spacy import displacy\n",
        "text = 'Will a person with Type 2 diabetes under control end up with the need for insulin?'\n",
        "nlp = spacy.load(\"en_core_web_sm\")\n",
        "doc3 = nlp(text)\n",
        "displacy.render(doc3, style='dep', jupyter=True,options={'distance':110})"
      ],
      "execution_count": null,
      "outputs": [
        {
          "output_type": "display_data",
          "data": {
            "text/html": [
              "<span class=\"tex2jax_ignore\"><svg xmlns=\"http://www.w3.org/2000/svg\" xmlns:xlink=\"http://www.w3.org/1999/xlink\" xml:lang=\"en\" id=\"41e3e3d6e8294cb6af496884fd44772b-0\" class=\"displacy\" width=\"1810\" height=\"467.0\" direction=\"ltr\" style=\"max-width: none; height: 467.0px; color: #000000; background: #ffffff; font-family: Arial; direction: ltr\">\n",
              "<text class=\"displacy-token\" fill=\"currentColor\" text-anchor=\"middle\" y=\"377.0\">\n",
              "    <tspan class=\"displacy-word\" fill=\"currentColor\" x=\"50\">Will</tspan>\n",
              "    <tspan class=\"displacy-tag\" dy=\"2em\" fill=\"currentColor\" x=\"50\">VERB</tspan>\n",
              "</text>\n",
              "\n",
              "<text class=\"displacy-token\" fill=\"currentColor\" text-anchor=\"middle\" y=\"377.0\">\n",
              "    <tspan class=\"displacy-word\" fill=\"currentColor\" x=\"160\">a</tspan>\n",
              "    <tspan class=\"displacy-tag\" dy=\"2em\" fill=\"currentColor\" x=\"160\">DET</tspan>\n",
              "</text>\n",
              "\n",
              "<text class=\"displacy-token\" fill=\"currentColor\" text-anchor=\"middle\" y=\"377.0\">\n",
              "    <tspan class=\"displacy-word\" fill=\"currentColor\" x=\"270\">person</tspan>\n",
              "    <tspan class=\"displacy-tag\" dy=\"2em\" fill=\"currentColor\" x=\"270\">NOUN</tspan>\n",
              "</text>\n",
              "\n",
              "<text class=\"displacy-token\" fill=\"currentColor\" text-anchor=\"middle\" y=\"377.0\">\n",
              "    <tspan class=\"displacy-word\" fill=\"currentColor\" x=\"380\">with</tspan>\n",
              "    <tspan class=\"displacy-tag\" dy=\"2em\" fill=\"currentColor\" x=\"380\">ADP</tspan>\n",
              "</text>\n",
              "\n",
              "<text class=\"displacy-token\" fill=\"currentColor\" text-anchor=\"middle\" y=\"377.0\">\n",
              "    <tspan class=\"displacy-word\" fill=\"currentColor\" x=\"490\">Type</tspan>\n",
              "    <tspan class=\"displacy-tag\" dy=\"2em\" fill=\"currentColor\" x=\"490\">PROPN</tspan>\n",
              "</text>\n",
              "\n",
              "<text class=\"displacy-token\" fill=\"currentColor\" text-anchor=\"middle\" y=\"377.0\">\n",
              "    <tspan class=\"displacy-word\" fill=\"currentColor\" x=\"600\">2</tspan>\n",
              "    <tspan class=\"displacy-tag\" dy=\"2em\" fill=\"currentColor\" x=\"600\">NUM</tspan>\n",
              "</text>\n",
              "\n",
              "<text class=\"displacy-token\" fill=\"currentColor\" text-anchor=\"middle\" y=\"377.0\">\n",
              "    <tspan class=\"displacy-word\" fill=\"currentColor\" x=\"710\">diabetes</tspan>\n",
              "    <tspan class=\"displacy-tag\" dy=\"2em\" fill=\"currentColor\" x=\"710\">NOUN</tspan>\n",
              "</text>\n",
              "\n",
              "<text class=\"displacy-token\" fill=\"currentColor\" text-anchor=\"middle\" y=\"377.0\">\n",
              "    <tspan class=\"displacy-word\" fill=\"currentColor\" x=\"820\">under</tspan>\n",
              "    <tspan class=\"displacy-tag\" dy=\"2em\" fill=\"currentColor\" x=\"820\">ADP</tspan>\n",
              "</text>\n",
              "\n",
              "<text class=\"displacy-token\" fill=\"currentColor\" text-anchor=\"middle\" y=\"377.0\">\n",
              "    <tspan class=\"displacy-word\" fill=\"currentColor\" x=\"930\">control</tspan>\n",
              "    <tspan class=\"displacy-tag\" dy=\"2em\" fill=\"currentColor\" x=\"930\">NOUN</tspan>\n",
              "</text>\n",
              "\n",
              "<text class=\"displacy-token\" fill=\"currentColor\" text-anchor=\"middle\" y=\"377.0\">\n",
              "    <tspan class=\"displacy-word\" fill=\"currentColor\" x=\"1040\">end</tspan>\n",
              "    <tspan class=\"displacy-tag\" dy=\"2em\" fill=\"currentColor\" x=\"1040\">VERB</tspan>\n",
              "</text>\n",
              "\n",
              "<text class=\"displacy-token\" fill=\"currentColor\" text-anchor=\"middle\" y=\"377.0\">\n",
              "    <tspan class=\"displacy-word\" fill=\"currentColor\" x=\"1150\">up</tspan>\n",
              "    <tspan class=\"displacy-tag\" dy=\"2em\" fill=\"currentColor\" x=\"1150\">ADP</tspan>\n",
              "</text>\n",
              "\n",
              "<text class=\"displacy-token\" fill=\"currentColor\" text-anchor=\"middle\" y=\"377.0\">\n",
              "    <tspan class=\"displacy-word\" fill=\"currentColor\" x=\"1260\">with</tspan>\n",
              "    <tspan class=\"displacy-tag\" dy=\"2em\" fill=\"currentColor\" x=\"1260\">ADP</tspan>\n",
              "</text>\n",
              "\n",
              "<text class=\"displacy-token\" fill=\"currentColor\" text-anchor=\"middle\" y=\"377.0\">\n",
              "    <tspan class=\"displacy-word\" fill=\"currentColor\" x=\"1370\">the</tspan>\n",
              "    <tspan class=\"displacy-tag\" dy=\"2em\" fill=\"currentColor\" x=\"1370\">DET</tspan>\n",
              "</text>\n",
              "\n",
              "<text class=\"displacy-token\" fill=\"currentColor\" text-anchor=\"middle\" y=\"377.0\">\n",
              "    <tspan class=\"displacy-word\" fill=\"currentColor\" x=\"1480\">need</tspan>\n",
              "    <tspan class=\"displacy-tag\" dy=\"2em\" fill=\"currentColor\" x=\"1480\">NOUN</tspan>\n",
              "</text>\n",
              "\n",
              "<text class=\"displacy-token\" fill=\"currentColor\" text-anchor=\"middle\" y=\"377.0\">\n",
              "    <tspan class=\"displacy-word\" fill=\"currentColor\" x=\"1590\">for</tspan>\n",
              "    <tspan class=\"displacy-tag\" dy=\"2em\" fill=\"currentColor\" x=\"1590\">ADP</tspan>\n",
              "</text>\n",
              "\n",
              "<text class=\"displacy-token\" fill=\"currentColor\" text-anchor=\"middle\" y=\"377.0\">\n",
              "    <tspan class=\"displacy-word\" fill=\"currentColor\" x=\"1700\">insulin?</tspan>\n",
              "    <tspan class=\"displacy-tag\" dy=\"2em\" fill=\"currentColor\" x=\"1700\">NOUN</tspan>\n",
              "</text>\n",
              "\n",
              "<g class=\"displacy-arrow\">\n",
              "    <path class=\"displacy-arc\" id=\"arrow-41e3e3d6e8294cb6af496884fd44772b-0-0\" stroke-width=\"2px\" d=\"M70,332.0 C70,2.0 1040.0,2.0 1040.0,332.0\" fill=\"none\" stroke=\"currentColor\"/>\n",
              "    <text dy=\"1.25em\" style=\"font-size: 0.8em; letter-spacing: 1px\">\n",
              "        <textPath xlink:href=\"#arrow-41e3e3d6e8294cb6af496884fd44772b-0-0\" class=\"displacy-label\" startOffset=\"50%\" side=\"left\" fill=\"currentColor\" text-anchor=\"middle\">aux</textPath>\n",
              "    </text>\n",
              "    <path class=\"displacy-arrowhead\" d=\"M70,334.0 L62,322.0 78,322.0\" fill=\"currentColor\"/>\n",
              "</g>\n",
              "\n",
              "<g class=\"displacy-arrow\">\n",
              "    <path class=\"displacy-arc\" id=\"arrow-41e3e3d6e8294cb6af496884fd44772b-0-1\" stroke-width=\"2px\" d=\"M180,332.0 C180,277.0 245.0,277.0 245.0,332.0\" fill=\"none\" stroke=\"currentColor\"/>\n",
              "    <text dy=\"1.25em\" style=\"font-size: 0.8em; letter-spacing: 1px\">\n",
              "        <textPath xlink:href=\"#arrow-41e3e3d6e8294cb6af496884fd44772b-0-1\" class=\"displacy-label\" startOffset=\"50%\" side=\"left\" fill=\"currentColor\" text-anchor=\"middle\">det</textPath>\n",
              "    </text>\n",
              "    <path class=\"displacy-arrowhead\" d=\"M180,334.0 L172,322.0 188,322.0\" fill=\"currentColor\"/>\n",
              "</g>\n",
              "\n",
              "<g class=\"displacy-arrow\">\n",
              "    <path class=\"displacy-arc\" id=\"arrow-41e3e3d6e8294cb6af496884fd44772b-0-2\" stroke-width=\"2px\" d=\"M290,332.0 C290,57.0 1035.0,57.0 1035.0,332.0\" fill=\"none\" stroke=\"currentColor\"/>\n",
              "    <text dy=\"1.25em\" style=\"font-size: 0.8em; letter-spacing: 1px\">\n",
              "        <textPath xlink:href=\"#arrow-41e3e3d6e8294cb6af496884fd44772b-0-2\" class=\"displacy-label\" startOffset=\"50%\" side=\"left\" fill=\"currentColor\" text-anchor=\"middle\">nsubj</textPath>\n",
              "    </text>\n",
              "    <path class=\"displacy-arrowhead\" d=\"M290,334.0 L282,322.0 298,322.0\" fill=\"currentColor\"/>\n",
              "</g>\n",
              "\n",
              "<g class=\"displacy-arrow\">\n",
              "    <path class=\"displacy-arc\" id=\"arrow-41e3e3d6e8294cb6af496884fd44772b-0-3\" stroke-width=\"2px\" d=\"M290,332.0 C290,277.0 355.0,277.0 355.0,332.0\" fill=\"none\" stroke=\"currentColor\"/>\n",
              "    <text dy=\"1.25em\" style=\"font-size: 0.8em; letter-spacing: 1px\">\n",
              "        <textPath xlink:href=\"#arrow-41e3e3d6e8294cb6af496884fd44772b-0-3\" class=\"displacy-label\" startOffset=\"50%\" side=\"left\" fill=\"currentColor\" text-anchor=\"middle\">prep</textPath>\n",
              "    </text>\n",
              "    <path class=\"displacy-arrowhead\" d=\"M355.0,334.0 L363.0,322.0 347.0,322.0\" fill=\"currentColor\"/>\n",
              "</g>\n",
              "\n",
              "<g class=\"displacy-arrow\">\n",
              "    <path class=\"displacy-arc\" id=\"arrow-41e3e3d6e8294cb6af496884fd44772b-0-4\" stroke-width=\"2px\" d=\"M510,332.0 C510,222.0 690.0,222.0 690.0,332.0\" fill=\"none\" stroke=\"currentColor\"/>\n",
              "    <text dy=\"1.25em\" style=\"font-size: 0.8em; letter-spacing: 1px\">\n",
              "        <textPath xlink:href=\"#arrow-41e3e3d6e8294cb6af496884fd44772b-0-4\" class=\"displacy-label\" startOffset=\"50%\" side=\"left\" fill=\"currentColor\" text-anchor=\"middle\">nmod</textPath>\n",
              "    </text>\n",
              "    <path class=\"displacy-arrowhead\" d=\"M510,334.0 L502,322.0 518,322.0\" fill=\"currentColor\"/>\n",
              "</g>\n",
              "\n",
              "<g class=\"displacy-arrow\">\n",
              "    <path class=\"displacy-arc\" id=\"arrow-41e3e3d6e8294cb6af496884fd44772b-0-5\" stroke-width=\"2px\" d=\"M510,332.0 C510,277.0 575.0,277.0 575.0,332.0\" fill=\"none\" stroke=\"currentColor\"/>\n",
              "    <text dy=\"1.25em\" style=\"font-size: 0.8em; letter-spacing: 1px\">\n",
              "        <textPath xlink:href=\"#arrow-41e3e3d6e8294cb6af496884fd44772b-0-5\" class=\"displacy-label\" startOffset=\"50%\" side=\"left\" fill=\"currentColor\" text-anchor=\"middle\">nummod</textPath>\n",
              "    </text>\n",
              "    <path class=\"displacy-arrowhead\" d=\"M575.0,334.0 L583.0,322.0 567.0,322.0\" fill=\"currentColor\"/>\n",
              "</g>\n",
              "\n",
              "<g class=\"displacy-arrow\">\n",
              "    <path class=\"displacy-arc\" id=\"arrow-41e3e3d6e8294cb6af496884fd44772b-0-6\" stroke-width=\"2px\" d=\"M400,332.0 C400,167.0 695.0,167.0 695.0,332.0\" fill=\"none\" stroke=\"currentColor\"/>\n",
              "    <text dy=\"1.25em\" style=\"font-size: 0.8em; letter-spacing: 1px\">\n",
              "        <textPath xlink:href=\"#arrow-41e3e3d6e8294cb6af496884fd44772b-0-6\" class=\"displacy-label\" startOffset=\"50%\" side=\"left\" fill=\"currentColor\" text-anchor=\"middle\">pobj</textPath>\n",
              "    </text>\n",
              "    <path class=\"displacy-arrowhead\" d=\"M695.0,334.0 L703.0,322.0 687.0,322.0\" fill=\"currentColor\"/>\n",
              "</g>\n",
              "\n",
              "<g class=\"displacy-arrow\">\n",
              "    <path class=\"displacy-arc\" id=\"arrow-41e3e3d6e8294cb6af496884fd44772b-0-7\" stroke-width=\"2px\" d=\"M290,332.0 C290,112.0 810.0,112.0 810.0,332.0\" fill=\"none\" stroke=\"currentColor\"/>\n",
              "    <text dy=\"1.25em\" style=\"font-size: 0.8em; letter-spacing: 1px\">\n",
              "        <textPath xlink:href=\"#arrow-41e3e3d6e8294cb6af496884fd44772b-0-7\" class=\"displacy-label\" startOffset=\"50%\" side=\"left\" fill=\"currentColor\" text-anchor=\"middle\">prep</textPath>\n",
              "    </text>\n",
              "    <path class=\"displacy-arrowhead\" d=\"M810.0,334.0 L818.0,322.0 802.0,322.0\" fill=\"currentColor\"/>\n",
              "</g>\n",
              "\n",
              "<g class=\"displacy-arrow\">\n",
              "    <path class=\"displacy-arc\" id=\"arrow-41e3e3d6e8294cb6af496884fd44772b-0-8\" stroke-width=\"2px\" d=\"M840,332.0 C840,277.0 905.0,277.0 905.0,332.0\" fill=\"none\" stroke=\"currentColor\"/>\n",
              "    <text dy=\"1.25em\" style=\"font-size: 0.8em; letter-spacing: 1px\">\n",
              "        <textPath xlink:href=\"#arrow-41e3e3d6e8294cb6af496884fd44772b-0-8\" class=\"displacy-label\" startOffset=\"50%\" side=\"left\" fill=\"currentColor\" text-anchor=\"middle\">pobj</textPath>\n",
              "    </text>\n",
              "    <path class=\"displacy-arrowhead\" d=\"M905.0,334.0 L913.0,322.0 897.0,322.0\" fill=\"currentColor\"/>\n",
              "</g>\n",
              "\n",
              "<g class=\"displacy-arrow\">\n",
              "    <path class=\"displacy-arc\" id=\"arrow-41e3e3d6e8294cb6af496884fd44772b-0-9\" stroke-width=\"2px\" d=\"M1060,332.0 C1060,277.0 1125.0,277.0 1125.0,332.0\" fill=\"none\" stroke=\"currentColor\"/>\n",
              "    <text dy=\"1.25em\" style=\"font-size: 0.8em; letter-spacing: 1px\">\n",
              "        <textPath xlink:href=\"#arrow-41e3e3d6e8294cb6af496884fd44772b-0-9\" class=\"displacy-label\" startOffset=\"50%\" side=\"left\" fill=\"currentColor\" text-anchor=\"middle\">prt</textPath>\n",
              "    </text>\n",
              "    <path class=\"displacy-arrowhead\" d=\"M1125.0,334.0 L1133.0,322.0 1117.0,322.0\" fill=\"currentColor\"/>\n",
              "</g>\n",
              "\n",
              "<g class=\"displacy-arrow\">\n",
              "    <path class=\"displacy-arc\" id=\"arrow-41e3e3d6e8294cb6af496884fd44772b-0-10\" stroke-width=\"2px\" d=\"M1060,332.0 C1060,222.0 1240.0,222.0 1240.0,332.0\" fill=\"none\" stroke=\"currentColor\"/>\n",
              "    <text dy=\"1.25em\" style=\"font-size: 0.8em; letter-spacing: 1px\">\n",
              "        <textPath xlink:href=\"#arrow-41e3e3d6e8294cb6af496884fd44772b-0-10\" class=\"displacy-label\" startOffset=\"50%\" side=\"left\" fill=\"currentColor\" text-anchor=\"middle\">prep</textPath>\n",
              "    </text>\n",
              "    <path class=\"displacy-arrowhead\" d=\"M1240.0,334.0 L1248.0,322.0 1232.0,322.0\" fill=\"currentColor\"/>\n",
              "</g>\n",
              "\n",
              "<g class=\"displacy-arrow\">\n",
              "    <path class=\"displacy-arc\" id=\"arrow-41e3e3d6e8294cb6af496884fd44772b-0-11\" stroke-width=\"2px\" d=\"M1390,332.0 C1390,277.0 1455.0,277.0 1455.0,332.0\" fill=\"none\" stroke=\"currentColor\"/>\n",
              "    <text dy=\"1.25em\" style=\"font-size: 0.8em; letter-spacing: 1px\">\n",
              "        <textPath xlink:href=\"#arrow-41e3e3d6e8294cb6af496884fd44772b-0-11\" class=\"displacy-label\" startOffset=\"50%\" side=\"left\" fill=\"currentColor\" text-anchor=\"middle\">det</textPath>\n",
              "    </text>\n",
              "    <path class=\"displacy-arrowhead\" d=\"M1390,334.0 L1382,322.0 1398,322.0\" fill=\"currentColor\"/>\n",
              "</g>\n",
              "\n",
              "<g class=\"displacy-arrow\">\n",
              "    <path class=\"displacy-arc\" id=\"arrow-41e3e3d6e8294cb6af496884fd44772b-0-12\" stroke-width=\"2px\" d=\"M1280,332.0 C1280,222.0 1460.0,222.0 1460.0,332.0\" fill=\"none\" stroke=\"currentColor\"/>\n",
              "    <text dy=\"1.25em\" style=\"font-size: 0.8em; letter-spacing: 1px\">\n",
              "        <textPath xlink:href=\"#arrow-41e3e3d6e8294cb6af496884fd44772b-0-12\" class=\"displacy-label\" startOffset=\"50%\" side=\"left\" fill=\"currentColor\" text-anchor=\"middle\">pobj</textPath>\n",
              "    </text>\n",
              "    <path class=\"displacy-arrowhead\" d=\"M1460.0,334.0 L1468.0,322.0 1452.0,322.0\" fill=\"currentColor\"/>\n",
              "</g>\n",
              "\n",
              "<g class=\"displacy-arrow\">\n",
              "    <path class=\"displacy-arc\" id=\"arrow-41e3e3d6e8294cb6af496884fd44772b-0-13\" stroke-width=\"2px\" d=\"M1500,332.0 C1500,277.0 1565.0,277.0 1565.0,332.0\" fill=\"none\" stroke=\"currentColor\"/>\n",
              "    <text dy=\"1.25em\" style=\"font-size: 0.8em; letter-spacing: 1px\">\n",
              "        <textPath xlink:href=\"#arrow-41e3e3d6e8294cb6af496884fd44772b-0-13\" class=\"displacy-label\" startOffset=\"50%\" side=\"left\" fill=\"currentColor\" text-anchor=\"middle\">prep</textPath>\n",
              "    </text>\n",
              "    <path class=\"displacy-arrowhead\" d=\"M1565.0,334.0 L1573.0,322.0 1557.0,322.0\" fill=\"currentColor\"/>\n",
              "</g>\n",
              "\n",
              "<g class=\"displacy-arrow\">\n",
              "    <path class=\"displacy-arc\" id=\"arrow-41e3e3d6e8294cb6af496884fd44772b-0-14\" stroke-width=\"2px\" d=\"M1610,332.0 C1610,277.0 1675.0,277.0 1675.0,332.0\" fill=\"none\" stroke=\"currentColor\"/>\n",
              "    <text dy=\"1.25em\" style=\"font-size: 0.8em; letter-spacing: 1px\">\n",
              "        <textPath xlink:href=\"#arrow-41e3e3d6e8294cb6af496884fd44772b-0-14\" class=\"displacy-label\" startOffset=\"50%\" side=\"left\" fill=\"currentColor\" text-anchor=\"middle\">pobj</textPath>\n",
              "    </text>\n",
              "    <path class=\"displacy-arrowhead\" d=\"M1675.0,334.0 L1683.0,322.0 1667.0,322.0\" fill=\"currentColor\"/>\n",
              "</g>\n",
              "</svg></span>"
            ],
            "text/plain": [
              "<IPython.core.display.HTML object>"
            ]
          },
          "metadata": {
            "tags": []
          }
        }
      ]
    }
  ]
}